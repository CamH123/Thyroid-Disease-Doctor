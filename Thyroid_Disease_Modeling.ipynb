{
  "cells": [
    {
      "cell_type": "markdown",
      "metadata": {
        "id": "view-in-github",
        "colab_type": "text"
      },
      "source": [
        "<a href=\"https://colab.research.google.com/github/CamH123/Thyroid-Disease-Doctor/blob/main/Thyroid_Disease_Modeling.ipynb\" target=\"_parent\"><img src=\"https://colab.research.google.com/assets/colab-badge.svg\" alt=\"Open In Colab\"/></a>"
      ]
    },
    {
      "cell_type": "markdown",
      "metadata": {
        "id": "MvEELsiWz5rv"
      },
      "source": [
        "## Modeling\n",
        "\n",
        "#### Rice Data Science DEEP\n",
        "\n",
        "#### Team 3 Thyroid Data\n",
        "\n",
        "This notebook contains the code we will use to get started modeling the data and making predictions on the data. It will walk through setting up a few multi-class classification models and then give you some space to create your own modeling pipeline.\n",
        "\n",
        "### Data Cleaning\n",
        "\n",
        "First we knew to repeat the data cleaning steps we performed in the first workshop below. The primary steps here were fixing some incorrect data, encoding categorical variables using one-hot encoding, and imputing missing data."
      ]
    },
    {
      "cell_type": "code",
      "execution_count": null,
      "metadata": {
        "id": "3_GOvmPaz5rw"
      },
      "outputs": [],
      "source": [
        "# Importing packages\n",
        "import pandas as pd\n",
        "import numpy as np\n",
        "import seaborn as sns\n",
        "import matplotlib.pyplot as plt\n",
        "from plotnine import *\n",
        "from sklearn.impute import KNNImputer\n",
        "from sklearn.model_selection import train_test_split, KFold, cross_validate\n",
        "from sklearn.metrics import accuracy_score, classification_report\n",
        "\n",
        "# Code converted to work with polars which is like pandas but faster\n",
        "import polars as pl\n",
        "import polars.selectors as cs\n",
        "\n",
        "# Importing models\n",
        "from sklearn.linear_model import LogisticRegression # Multinomial Logistic Regression\n",
        "from sklearn.naive_bayes import GaussianNB # Naive Bayes assuming normally distributed features\n",
        "from sklearn.ensemble import RandomForestClassifier # Random Forest\n",
        "from sklearn.ensemble import GradientBoostingClassifier # Gradient Boosting Tree Model"
      ]
    },
    {
      "cell_type": "code",
      "execution_count": null,
      "metadata": {
        "id": "Y88jR0vpz5rx"
      },
      "outputs": [],
      "source": [
        "# Load thyroid data\n",
        "thyroid_dat = pl.scan_csv(\"./thyroidDF.csv\", infer_schema_length=1000).collect()\n",
        "\n",
        "# Fix age column\n",
        "thyroid_dat = thyroid_dat.with_columns(pl.when(pl.col(\"age\") > 100).then(None).otherwise(pl.col(\"age\")).alias(\"age\"))\n",
        "\n",
        "# Encode boolean variabes as 0's and 1's using to_dummies (more general alternative)\n",
        "thyroid_dat = thyroid_dat.to_dummies(columns = thyroid_dat[:, thyroid_dat.select(pl.all().n_unique() < 7).row(0)].columns, drop_first = True)"
      ]
    },
    {
      "cell_type": "markdown",
      "metadata": {
        "id": "4MJEimOvz5ry"
      },
      "source": [
        "### Data Splitting\n",
        "\n",
        "Before we do any modeling on the data we need to decide how to split our data. We also need to wait before doing the knn imputation as we want to avoid data leakage in the form of the imputer using information from our test data to affect our training data. A common data splitting scheme when working with typically tabular data is to use an 80-20 train test split and using 5-fold cross validation for our validation set."
      ]
    },
    {
      "cell_type": "code",
      "execution_count": null,
      "metadata": {
        "id": "Atuw0eTzz5ry",
        "colab": {
          "base_uri": "https://localhost:8080/"
        },
        "outputId": "e2e65056-8b71-4e15-cd7e-6cda38c100cf"
      },
      "outputs": [
        {
          "output_type": "stream",
          "name": "stdout",
          "text": [
            "['age', 'sex_M', 'sex_null', 'on_thyroxine_t', 'query_on_thyroxine_t', 'on_antithyroid_meds_t', 'sick_t', 'pregnant_t', 'thyroid_surgery_t', 'I131_treatment_t', 'query_hypothyroid_f', 'query_hyperthyroid_t', 'lithium_t', 'goitre_t', 'tumor_t', 'hypopituitary_t', 'psych_t', 'TSH_measured_f', 'TSH', 'T3_measured_t', 'T3', 'TT4_measured_t', 'TT4', 'T4U_measured_t', 'T4U', 'FTI_measured_t', 'FTI', 'TBG_measured_t', 'TBG', 'referral_source_STMW', 'referral_source_SVHC', 'referral_source_SVHD', 'referral_source_SVI', 'referral_source_WEST', 'patient_id']\n"
          ]
        }
      ],
      "source": [
        "# CODE HERE: Split the data into an 80-20 train test split\n",
        "target = [\"target\"]\n",
        "features = thyroid_dat.drop(target).columns\n",
        "print(features)\n",
        "X = thyroid_dat[features]\n",
        "y = thyroid_dat[target]\n",
        "X_train, X_test, y_train, y_test = train_test_split(X, y, test_size=0.2, random_state=1)\n",
        "\n",
        "\n"
      ]
    },
    {
      "cell_type": "code",
      "execution_count": null,
      "metadata": {
        "id": "4NbDyiw5z5ry"
      },
      "outputs": [],
      "source": [
        "# CODE HERE: Split the training data into an 95-5 train validation split\n",
        "X_train, X_valid, y_train, y_valid = train_test_split(X_train, y_train, test_size=0.05, random_state=1)"
      ]
    },
    {
      "cell_type": "code",
      "execution_count": null,
      "metadata": {
        "id": "sOoWNDY7z5ry"
      },
      "outputs": [],
      "source": [
        "# CODE HERE: Create 5 cross validation folds\n",
        "cv_folds = KFold(n_splits=5, shuffle=True, random_state=1)"
      ]
    },
    {
      "cell_type": "markdown",
      "metadata": {
        "id": "jf0EhUJfz5ry"
      },
      "source": [
        "#### Finishing data cleaning"
      ]
    },
    {
      "cell_type": "code",
      "execution_count": null,
      "metadata": {
        "id": "JTE1C3tiz5rz"
      },
      "outputs": [],
      "source": [
        "# Initialize KNNImputer with a specified number of neighbors (default is 5)\n",
        "imputer = KNNImputer(n_neighbors=3)\n",
        "\n",
        "# Apply the KNN imputer to the DataFrame\n",
        "temp_cols = thyroid_dat.select(pl.col(pl.Float64, pl.Int64, pl.UInt8)).columns # Save columns as imputer removes them\n",
        "\n",
        "X_train = pd.DataFrame(imputer.fit_transform(X_train)) # Fit the imputer on the training data but not the test data\n",
        "X_valid = pd.DataFrame(imputer.transform(X_valid))\n",
        "X_test = pd.DataFrame(imputer.transform(X_test))\n",
        "\n",
        "# Add back column names\n",
        "X_train.columns = temp_cols\n",
        "X_valid.columns = temp_cols\n",
        "X_test.columns = temp_cols"
      ]
    },
    {
      "cell_type": "markdown",
      "metadata": {
        "id": "1KnuDwn4z5rz"
      },
      "source": [
        "### Modeling\n",
        "\n",
        "We covered binary classification in the previous session where you are trying to classify things as one class or another class. However, our data is split up into 32 different classes, so we will need to keep this in mind with what models we use. I will have you implement five different models of increasing complexity that can perform multiclass classification.\n",
        "\n",
        "#### Multinomial Logistic Regression\n",
        "\n",
        "To begin with, we will use logistic regression which has already been covered. However, we will use a variation of traditional logistic regression called multinomial logistic regression that is designed to work with multiple classes. The specifics of how these models differ are largely in their formulas which I will leave to you to research if you are interested."
      ]
    },
    {
      "cell_type": "code",
      "execution_count": null,
      "metadata": {
        "id": "UB7AldiGz5rz",
        "colab": {
          "base_uri": "https://localhost:8080/"
        },
        "outputId": "4e4445fa-02a6-45c8-f6fe-863a0ba07307"
      },
      "outputs": [
        {
          "output_type": "stream",
          "name": "stderr",
          "text": [
            "/usr/local/lib/python3.10/dist-packages/sklearn/utils/validation.py:1339: DataConversionWarning: A column-vector y was passed when a 1d array was expected. Please change the shape of y to (n_samples, ), for example using ravel().\n",
            "/usr/local/lib/python3.10/dist-packages/sklearn/linear_model/_logistic.py:1247: FutureWarning: 'multi_class' was deprecated in version 1.5 and will be removed in 1.7. From then on, it will always use 'multinomial'. Leave it to its default value to avoid this warning.\n"
          ]
        }
      ],
      "source": [
        "# CODE HERE: Implement a Logistic Regression Model, fit it on the training data, and predict the validation and test data\n",
        "lm_model = LogisticRegression(multi_class='multinomial', solver='lbfgs', max_iter = 500)\n",
        "lm_model.fit(X_train, y_train)\n",
        "y_valid_lm = lm_model.predict(X_valid)\n",
        "y_pred_lm = lm_model.predict(X_test)\n"
      ]
    },
    {
      "cell_type": "code",
      "execution_count": null,
      "metadata": {
        "id": "CLfwLX4Cz5r0",
        "colab": {
          "base_uri": "https://localhost:8080/",
          "height": 410
        },
        "outputId": "6de79fff-52e2-442e-8dd9-1d79cacb5f30"
      },
      "outputs": [
        {
          "output_type": "stream",
          "name": "stderr",
          "text": [
            "/usr/local/lib/python3.10/dist-packages/sklearn/utils/validation.py:1339: DataConversionWarning: A column-vector y was passed when a 1d array was expected. Please change the shape of y to (n_samples, ), for example using ravel().\n",
            "/usr/local/lib/python3.10/dist-packages/sklearn/linear_model/_logistic.py:1247: FutureWarning: 'multi_class' was deprecated in version 1.5 and will be removed in 1.7. From then on, it will always use 'multinomial'. Leave it to its default value to avoid this warning.\n",
            "/usr/local/lib/python3.10/dist-packages/sklearn/metrics/_classification.py:1531: UndefinedMetricWarning: Precision is ill-defined and being set to 0.0 in labels with no predicted samples. Use `zero_division` parameter to control this behavior.\n",
            "/usr/local/lib/python3.10/dist-packages/sklearn/utils/validation.py:1339: DataConversionWarning: A column-vector y was passed when a 1d array was expected. Please change the shape of y to (n_samples, ), for example using ravel().\n",
            "/usr/local/lib/python3.10/dist-packages/sklearn/linear_model/_logistic.py:1247: FutureWarning: 'multi_class' was deprecated in version 1.5 and will be removed in 1.7. From then on, it will always use 'multinomial'. Leave it to its default value to avoid this warning.\n",
            "/usr/local/lib/python3.10/dist-packages/sklearn/metrics/_classification.py:1531: UndefinedMetricWarning: Precision is ill-defined and being set to 0.0 in labels with no predicted samples. Use `zero_division` parameter to control this behavior.\n",
            "/usr/local/lib/python3.10/dist-packages/sklearn/utils/validation.py:1339: DataConversionWarning: A column-vector y was passed when a 1d array was expected. Please change the shape of y to (n_samples, ), for example using ravel().\n",
            "/usr/local/lib/python3.10/dist-packages/sklearn/linear_model/_logistic.py:1247: FutureWarning: 'multi_class' was deprecated in version 1.5 and will be removed in 1.7. From then on, it will always use 'multinomial'. Leave it to its default value to avoid this warning.\n",
            "/usr/local/lib/python3.10/dist-packages/sklearn/metrics/_classification.py:1531: UndefinedMetricWarning: Precision is ill-defined and being set to 0.0 in labels with no predicted samples. Use `zero_division` parameter to control this behavior.\n",
            "/usr/local/lib/python3.10/dist-packages/sklearn/utils/validation.py:1339: DataConversionWarning: A column-vector y was passed when a 1d array was expected. Please change the shape of y to (n_samples, ), for example using ravel().\n",
            "/usr/local/lib/python3.10/dist-packages/sklearn/linear_model/_logistic.py:1247: FutureWarning: 'multi_class' was deprecated in version 1.5 and will be removed in 1.7. From then on, it will always use 'multinomial'. Leave it to its default value to avoid this warning.\n",
            "/usr/local/lib/python3.10/dist-packages/sklearn/metrics/_classification.py:1531: UndefinedMetricWarning: Precision is ill-defined and being set to 0.0 in labels with no predicted samples. Use `zero_division` parameter to control this behavior.\n",
            "/usr/local/lib/python3.10/dist-packages/sklearn/utils/validation.py:1339: DataConversionWarning: A column-vector y was passed when a 1d array was expected. Please change the shape of y to (n_samples, ), for example using ravel().\n",
            "/usr/local/lib/python3.10/dist-packages/sklearn/linear_model/_logistic.py:1247: FutureWarning: 'multi_class' was deprecated in version 1.5 and will be removed in 1.7. From then on, it will always use 'multinomial'. Leave it to its default value to avoid this warning.\n",
            "/usr/local/lib/python3.10/dist-packages/sklearn/metrics/_classification.py:1531: UndefinedMetricWarning: Precision is ill-defined and being set to 0.0 in labels with no predicted samples. Use `zero_division` parameter to control this behavior.\n"
          ]
        },
        {
          "output_type": "execute_result",
          "data": {
            "text/plain": [
              "shape: (1, 6)\n",
              "┌──────────┬────────────┬───────────────┬───────────────────┬───────────────────┬──────────────────┐\n",
              "│ fit_time ┆ score_time ┆ test_accuracy ┆ test_precision_we ┆ test_recall_weigh ┆ test_f1_weighted │\n",
              "│ ---      ┆ ---        ┆ ---           ┆ ighted            ┆ ted               ┆ ---              │\n",
              "│ f64      ┆ f64        ┆ f64           ┆ ---               ┆ ---               ┆ f64              │\n",
              "│          ┆            ┆               ┆ f64               ┆ f64               ┆                  │\n",
              "╞══════════╪════════════╪═══════════════╪═══════════════════╪═══════════════════╪══════════════════╡\n",
              "│ 2.32928  ┆ 0.123722   ┆ 0.741033      ┆ 0.549338          ┆ 0.741033          ┆ 0.630888         │\n",
              "└──────────┴────────────┴───────────────┴───────────────────┴───────────────────┴──────────────────┘"
            ],
            "text/html": [
              "<div><style>\n",
              ".dataframe > thead > tr,\n",
              ".dataframe > tbody > tr {\n",
              "  text-align: right;\n",
              "  white-space: pre-wrap;\n",
              "}\n",
              "</style>\n",
              "<small>shape: (1, 6)</small><table border=\"1\" class=\"dataframe\"><thead><tr><th>fit_time</th><th>score_time</th><th>test_accuracy</th><th>test_precision_weighted</th><th>test_recall_weighted</th><th>test_f1_weighted</th></tr><tr><td>f64</td><td>f64</td><td>f64</td><td>f64</td><td>f64</td><td>f64</td></tr></thead><tbody><tr><td>2.32928</td><td>0.123722</td><td>0.741033</td><td>0.549338</td><td>0.741033</td><td>0.630888</td></tr></tbody></table></div>"
            ]
          },
          "metadata": {},
          "execution_count": 16
        }
      ],
      "source": [
        "# Evaluating Logistic Regression Model on Cross-Validation Folds\n",
        "cross_val_scores = cross_validate(lm_model, X_train, y_train, cv=cv_folds,\n",
        "                                  scoring=['accuracy', 'precision_weighted', 'recall_weighted', 'f1_weighted'])\n",
        "avg_cv_scores = pl.DataFrame(cross_val_scores).mean()\n",
        "avg_cv_scores"
      ]
    },
    {
      "cell_type": "code",
      "execution_count": null,
      "metadata": {
        "id": "kp83Payjz5r0",
        "colab": {
          "base_uri": "https://localhost:8080/"
        },
        "outputId": "4bd57ca0-5962-4da6-98a5-000c85e970c9"
      },
      "outputs": [
        {
          "output_type": "stream",
          "name": "stdout",
          "text": [
            "              precision    recall  f1-score   support\n",
            "\n",
            "           -       0.73      1.00      0.84       267\n",
            "           A       0.00      0.00      0.00         5\n",
            "          AK       0.00      0.00      0.00         2\n",
            "           B       0.00      0.00      0.00         1\n",
            "         C|I       0.00      0.00      0.00         1\n",
            "           F       0.00      0.00      0.00        10\n",
            "           G       0.00      0.00      0.00        12\n",
            "          GK       0.00      0.00      0.00         4\n",
            "           I       0.00      0.00      0.00        14\n",
            "           J       0.00      0.00      0.00         1\n",
            "           K       0.00      0.00      0.00        19\n",
            "          KJ       0.00      0.00      0.00         1\n",
            "           L       0.00      0.00      0.00         4\n",
            "           M       0.00      0.00      0.00         8\n",
            "          MK       0.00      0.00      0.00         2\n",
            "           N       0.00      0.00      0.00         5\n",
            "           O       0.00      0.00      0.00         2\n",
            "           R       0.00      0.00      0.00         6\n",
            "           S       0.00      0.00      0.00         3\n",
            "\n",
            "    accuracy                           0.73       367\n",
            "   macro avg       0.04      0.05      0.04       367\n",
            "weighted avg       0.53      0.73      0.61       367\n",
            "\n"
          ]
        },
        {
          "output_type": "stream",
          "name": "stderr",
          "text": [
            "/usr/local/lib/python3.10/dist-packages/sklearn/metrics/_classification.py:1531: UndefinedMetricWarning: Precision is ill-defined and being set to 0.0 in labels with no predicted samples. Use `zero_division` parameter to control this behavior.\n",
            "/usr/local/lib/python3.10/dist-packages/sklearn/metrics/_classification.py:1531: UndefinedMetricWarning: Precision is ill-defined and being set to 0.0 in labels with no predicted samples. Use `zero_division` parameter to control this behavior.\n",
            "/usr/local/lib/python3.10/dist-packages/sklearn/metrics/_classification.py:1531: UndefinedMetricWarning: Precision is ill-defined and being set to 0.0 in labels with no predicted samples. Use `zero_division` parameter to control this behavior.\n"
          ]
        }
      ],
      "source": [
        "# Get classifiction report on validation data\n",
        "print(classification_report(y_true=y_valid, y_pred=y_valid_lm))"
      ]
    },
    {
      "cell_type": "markdown",
      "metadata": {
        "id": "EqkvgSZHz5r0"
      },
      "source": [
        "#### Gaussian Naive Bayes\n",
        "\n",
        "Next we will use a naive bayes model. The gaussian part refers to the assumption for the model that every feature is normally distributed. This obviously is not true for many of our columns, but it is worth evaluating the performance regardless."
      ]
    },
    {
      "cell_type": "code",
      "execution_count": null,
      "metadata": {
        "id": "8f_7H2JPz5r0",
        "colab": {
          "base_uri": "https://localhost:8080/"
        },
        "outputId": "ceeecbdb-b0fc-4888-d92e-eee71e623525"
      },
      "outputs": [
        {
          "output_type": "stream",
          "name": "stderr",
          "text": [
            "/usr/local/lib/python3.10/dist-packages/sklearn/utils/validation.py:1339: DataConversionWarning: A column-vector y was passed when a 1d array was expected. Please change the shape of y to (n_samples, ), for example using ravel().\n"
          ]
        }
      ],
      "source": [
        "# CODE HERE: Implement a Naive Bayes Model, fit it on the training data, and predict the validation and test data\n",
        "nb_model = GaussianNB()\n",
        "nb_model.fit(X_train, y_train)\n",
        "y_valid_nb = nb_model.predict(X_valid)\n",
        "y_pred_nb = nb_model.predict(X_test)"
      ]
    },
    {
      "cell_type": "code",
      "execution_count": null,
      "metadata": {
        "id": "iK4yS-zaz5r1",
        "colab": {
          "base_uri": "https://localhost:8080/",
          "height": 410
        },
        "outputId": "7ba00f45-b754-4e7a-8653-105954a6068c"
      },
      "outputs": [
        {
          "output_type": "stream",
          "name": "stderr",
          "text": [
            "/usr/local/lib/python3.10/dist-packages/sklearn/utils/validation.py:1339: DataConversionWarning: A column-vector y was passed when a 1d array was expected. Please change the shape of y to (n_samples, ), for example using ravel().\n",
            "/usr/local/lib/python3.10/dist-packages/sklearn/metrics/_classification.py:1531: UndefinedMetricWarning: Precision is ill-defined and being set to 0.0 in labels with no predicted samples. Use `zero_division` parameter to control this behavior.\n",
            "/usr/local/lib/python3.10/dist-packages/sklearn/metrics/_classification.py:1531: UndefinedMetricWarning: Recall is ill-defined and being set to 0.0 in labels with no true samples. Use `zero_division` parameter to control this behavior.\n",
            "/usr/local/lib/python3.10/dist-packages/sklearn/utils/validation.py:1339: DataConversionWarning: A column-vector y was passed when a 1d array was expected. Please change the shape of y to (n_samples, ), for example using ravel().\n",
            "/usr/local/lib/python3.10/dist-packages/sklearn/metrics/_classification.py:1531: UndefinedMetricWarning: Precision is ill-defined and being set to 0.0 in labels with no predicted samples. Use `zero_division` parameter to control this behavior.\n",
            "/usr/local/lib/python3.10/dist-packages/sklearn/metrics/_classification.py:1531: UndefinedMetricWarning: Recall is ill-defined and being set to 0.0 in labels with no true samples. Use `zero_division` parameter to control this behavior.\n",
            "/usr/local/lib/python3.10/dist-packages/sklearn/utils/validation.py:1339: DataConversionWarning: A column-vector y was passed when a 1d array was expected. Please change the shape of y to (n_samples, ), for example using ravel().\n",
            "/usr/local/lib/python3.10/dist-packages/sklearn/metrics/_classification.py:1531: UndefinedMetricWarning: Precision is ill-defined and being set to 0.0 in labels with no predicted samples. Use `zero_division` parameter to control this behavior.\n",
            "/usr/local/lib/python3.10/dist-packages/sklearn/metrics/_classification.py:1531: UndefinedMetricWarning: Recall is ill-defined and being set to 0.0 in labels with no true samples. Use `zero_division` parameter to control this behavior.\n",
            "/usr/local/lib/python3.10/dist-packages/sklearn/utils/validation.py:1339: DataConversionWarning: A column-vector y was passed when a 1d array was expected. Please change the shape of y to (n_samples, ), for example using ravel().\n",
            "/usr/local/lib/python3.10/dist-packages/sklearn/metrics/_classification.py:1531: UndefinedMetricWarning: Precision is ill-defined and being set to 0.0 in labels with no predicted samples. Use `zero_division` parameter to control this behavior.\n",
            "/usr/local/lib/python3.10/dist-packages/sklearn/metrics/_classification.py:1531: UndefinedMetricWarning: Recall is ill-defined and being set to 0.0 in labels with no true samples. Use `zero_division` parameter to control this behavior.\n",
            "/usr/local/lib/python3.10/dist-packages/sklearn/utils/validation.py:1339: DataConversionWarning: A column-vector y was passed when a 1d array was expected. Please change the shape of y to (n_samples, ), for example using ravel().\n",
            "/usr/local/lib/python3.10/dist-packages/sklearn/metrics/_classification.py:1531: UndefinedMetricWarning: Precision is ill-defined and being set to 0.0 in labels with no predicted samples. Use `zero_division` parameter to control this behavior.\n",
            "/usr/local/lib/python3.10/dist-packages/sklearn/metrics/_classification.py:1531: UndefinedMetricWarning: Recall is ill-defined and being set to 0.0 in labels with no true samples. Use `zero_division` parameter to control this behavior.\n"
          ]
        },
        {
          "output_type": "execute_result",
          "data": {
            "text/plain": [
              "shape: (1, 6)\n",
              "┌──────────┬────────────┬───────────────┬───────────────────┬───────────────────┬──────────────────┐\n",
              "│ fit_time ┆ score_time ┆ test_accuracy ┆ test_precision_we ┆ test_recall_weigh ┆ test_f1_weighted │\n",
              "│ ---      ┆ ---        ┆ ---           ┆ ighted            ┆ ted               ┆ ---              │\n",
              "│ f64      ┆ f64        ┆ f64           ┆ ---               ┆ ---               ┆ f64              │\n",
              "│          ┆            ┆               ┆ f64               ┆ f64               ┆                  │\n",
              "╞══════════╪════════════╪═══════════════╪═══════════════════╪═══════════════════╪══════════════════╡\n",
              "│ 0.025327 ┆ 0.041186   ┆ 0.735151      ┆ 0.550014          ┆ 0.735151          ┆ 0.629196         │\n",
              "└──────────┴────────────┴───────────────┴───────────────────┴───────────────────┴──────────────────┘"
            ],
            "text/html": [
              "<div><style>\n",
              ".dataframe > thead > tr,\n",
              ".dataframe > tbody > tr {\n",
              "  text-align: right;\n",
              "  white-space: pre-wrap;\n",
              "}\n",
              "</style>\n",
              "<small>shape: (1, 6)</small><table border=\"1\" class=\"dataframe\"><thead><tr><th>fit_time</th><th>score_time</th><th>test_accuracy</th><th>test_precision_weighted</th><th>test_recall_weighted</th><th>test_f1_weighted</th></tr><tr><td>f64</td><td>f64</td><td>f64</td><td>f64</td><td>f64</td><td>f64</td></tr></thead><tbody><tr><td>0.025327</td><td>0.041186</td><td>0.735151</td><td>0.550014</td><td>0.735151</td><td>0.629196</td></tr></tbody></table></div>"
            ]
          },
          "metadata": {},
          "execution_count": 19
        }
      ],
      "source": [
        "# Evaluating Naive Bayes Model on Cross-Validation Folds\n",
        "cross_val_scores = cross_validate(nb_model, X_train, y_train, cv=cv_folds,\n",
        "                                  scoring=['accuracy', 'precision_weighted', 'recall_weighted', 'f1_weighted'])\n",
        "avg_cv_scores = pl.DataFrame(cross_val_scores).mean()\n",
        "avg_cv_scores"
      ]
    },
    {
      "cell_type": "code",
      "source": [
        "# Get classifiction report on validation data\n",
        "print(classification_report(y_true=y_valid, y_pred=y_valid_nb))"
      ],
      "metadata": {
        "id": "UWdwNK9D0kh_",
        "colab": {
          "base_uri": "https://localhost:8080/"
        },
        "outputId": "535fefb7-4d3a-44e9-9279-32b48dc0a706"
      },
      "execution_count": null,
      "outputs": [
        {
          "output_type": "stream",
          "name": "stdout",
          "text": [
            "              precision    recall  f1-score   support\n",
            "\n",
            "           -       0.73      1.00      0.84       267\n",
            "           A       0.00      0.00      0.00         5\n",
            "          AK       0.00      0.00      0.00         2\n",
            "           B       0.00      0.00      0.00         1\n",
            "         C|I       0.00      0.00      0.00         1\n",
            "           F       0.00      0.00      0.00        10\n",
            "           G       0.00      0.00      0.00        12\n",
            "          GK       0.00      0.00      0.00         4\n",
            "           I       0.00      0.00      0.00        14\n",
            "           J       0.00      0.00      0.00         1\n",
            "           K       0.00      0.00      0.00        19\n",
            "          KJ       0.00      0.00      0.00         1\n",
            "           L       0.00      0.00      0.00         4\n",
            "           M       0.00      0.00      0.00         8\n",
            "          MK       0.00      0.00      0.00         2\n",
            "           N       0.00      0.00      0.00         5\n",
            "           O       0.00      0.00      0.00         2\n",
            "          OI       0.00      0.00      0.00         0\n",
            "           R       0.00      0.00      0.00         6\n",
            "           S       0.00      0.00      0.00         3\n",
            "\n",
            "    accuracy                           0.72       367\n",
            "   macro avg       0.04      0.05      0.04       367\n",
            "weighted avg       0.53      0.72      0.61       367\n",
            "\n"
          ]
        },
        {
          "output_type": "stream",
          "name": "stderr",
          "text": [
            "/usr/local/lib/python3.10/dist-packages/sklearn/metrics/_classification.py:1531: UndefinedMetricWarning: Precision is ill-defined and being set to 0.0 in labels with no predicted samples. Use `zero_division` parameter to control this behavior.\n",
            "/usr/local/lib/python3.10/dist-packages/sklearn/metrics/_classification.py:1531: UndefinedMetricWarning: Recall is ill-defined and being set to 0.0 in labels with no true samples. Use `zero_division` parameter to control this behavior.\n",
            "/usr/local/lib/python3.10/dist-packages/sklearn/metrics/_classification.py:1531: UndefinedMetricWarning: Precision is ill-defined and being set to 0.0 in labels with no predicted samples. Use `zero_division` parameter to control this behavior.\n",
            "/usr/local/lib/python3.10/dist-packages/sklearn/metrics/_classification.py:1531: UndefinedMetricWarning: Recall is ill-defined and being set to 0.0 in labels with no true samples. Use `zero_division` parameter to control this behavior.\n",
            "/usr/local/lib/python3.10/dist-packages/sklearn/metrics/_classification.py:1531: UndefinedMetricWarning: Precision is ill-defined and being set to 0.0 in labels with no predicted samples. Use `zero_division` parameter to control this behavior.\n",
            "/usr/local/lib/python3.10/dist-packages/sklearn/metrics/_classification.py:1531: UndefinedMetricWarning: Recall is ill-defined and being set to 0.0 in labels with no true samples. Use `zero_division` parameter to control this behavior.\n"
          ]
        }
      ]
    },
    {
      "cell_type": "markdown",
      "metadata": {
        "id": "sqxYrlyQz5r1"
      },
      "source": [
        "#### Random Forest\n",
        "\n",
        "Next up is a random forest model which is an ensemble model meaning it using many submodels and combines them together to get a better final model."
      ]
    },
    {
      "cell_type": "code",
      "execution_count": null,
      "metadata": {
        "id": "iXLUlu6lz5r1",
        "colab": {
          "base_uri": "https://localhost:8080/"
        },
        "outputId": "fe7209ad-2637-42ae-c4d9-f0dada3545d5"
      },
      "outputs": [
        {
          "output_type": "stream",
          "name": "stderr",
          "text": [
            "/usr/local/lib/python3.10/dist-packages/sklearn/base.py:1473: DataConversionWarning: A column-vector y was passed when a 1d array was expected. Please change the shape of y to (n_samples,), for example using ravel().\n"
          ]
        }
      ],
      "source": [
        "# CODE HERE: Implement a Random Forest Model, fit it on the training data, and predict the validation and test data\n",
        "rf_model = RandomForestClassifier(n_estimators=100, random_state=1)\n",
        "rf_model.fit(X_train, y_train)\n",
        "y_valid_rf = rf_model.predict(X_valid)\n",
        "y_pred_rf = rf_model.predict(X_test)"
      ]
    },
    {
      "cell_type": "code",
      "execution_count": null,
      "metadata": {
        "id": "Z6qVjBphz5r1",
        "colab": {
          "base_uri": "https://localhost:8080/",
          "height": 340
        },
        "outputId": "d1275a0a-318b-4eb5-c630-504bf64b7c78"
      },
      "outputs": [
        {
          "output_type": "stream",
          "name": "stderr",
          "text": [
            "/usr/local/lib/python3.10/dist-packages/sklearn/base.py:1473: DataConversionWarning: A column-vector y was passed when a 1d array was expected. Please change the shape of y to (n_samples,), for example using ravel().\n",
            "/usr/local/lib/python3.10/dist-packages/sklearn/metrics/_classification.py:1531: UndefinedMetricWarning: Precision is ill-defined and being set to 0.0 in labels with no predicted samples. Use `zero_division` parameter to control this behavior.\n",
            "/usr/local/lib/python3.10/dist-packages/sklearn/base.py:1473: DataConversionWarning: A column-vector y was passed when a 1d array was expected. Please change the shape of y to (n_samples,), for example using ravel().\n",
            "/usr/local/lib/python3.10/dist-packages/sklearn/metrics/_classification.py:1531: UndefinedMetricWarning: Precision is ill-defined and being set to 0.0 in labels with no predicted samples. Use `zero_division` parameter to control this behavior.\n",
            "/usr/local/lib/python3.10/dist-packages/sklearn/base.py:1473: DataConversionWarning: A column-vector y was passed when a 1d array was expected. Please change the shape of y to (n_samples,), for example using ravel().\n",
            "/usr/local/lib/python3.10/dist-packages/sklearn/metrics/_classification.py:1531: UndefinedMetricWarning: Precision is ill-defined and being set to 0.0 in labels with no predicted samples. Use `zero_division` parameter to control this behavior.\n",
            "/usr/local/lib/python3.10/dist-packages/sklearn/base.py:1473: DataConversionWarning: A column-vector y was passed when a 1d array was expected. Please change the shape of y to (n_samples,), for example using ravel().\n",
            "/usr/local/lib/python3.10/dist-packages/sklearn/metrics/_classification.py:1531: UndefinedMetricWarning: Precision is ill-defined and being set to 0.0 in labels with no predicted samples. Use `zero_division` parameter to control this behavior.\n",
            "/usr/local/lib/python3.10/dist-packages/sklearn/base.py:1473: DataConversionWarning: A column-vector y was passed when a 1d array was expected. Please change the shape of y to (n_samples,), for example using ravel().\n",
            "/usr/local/lib/python3.10/dist-packages/sklearn/metrics/_classification.py:1531: UndefinedMetricWarning: Precision is ill-defined and being set to 0.0 in labels with no predicted samples. Use `zero_division` parameter to control this behavior.\n",
            "/usr/local/lib/python3.10/dist-packages/sklearn/metrics/_classification.py:1531: UndefinedMetricWarning: Recall is ill-defined and being set to 0.0 in labels with no true samples. Use `zero_division` parameter to control this behavior.\n"
          ]
        },
        {
          "output_type": "execute_result",
          "data": {
            "text/plain": [
              "shape: (1, 6)\n",
              "┌──────────┬────────────┬───────────────┬───────────────────┬───────────────────┬──────────────────┐\n",
              "│ fit_time ┆ score_time ┆ test_accuracy ┆ test_precision_we ┆ test_recall_weigh ┆ test_f1_weighted │\n",
              "│ ---      ┆ ---        ┆ ---           ┆ ighted            ┆ ted               ┆ ---              │\n",
              "│ f64      ┆ f64        ┆ f64           ┆ ---               ┆ ---               ┆ f64              │\n",
              "│          ┆            ┆               ┆ f64               ┆ f64               ┆                  │\n",
              "╞══════════╪════════════╪═══════════════╪═══════════════════╪═══════════════════╪══════════════════╡\n",
              "│ 1.368674 ┆ 0.102292   ┆ 0.939024      ┆ 0.929168          ┆ 0.939024          ┆ 0.931304         │\n",
              "└──────────┴────────────┴───────────────┴───────────────────┴───────────────────┴──────────────────┘"
            ],
            "text/html": [
              "<div><style>\n",
              ".dataframe > thead > tr,\n",
              ".dataframe > tbody > tr {\n",
              "  text-align: right;\n",
              "  white-space: pre-wrap;\n",
              "}\n",
              "</style>\n",
              "<small>shape: (1, 6)</small><table border=\"1\" class=\"dataframe\"><thead><tr><th>fit_time</th><th>score_time</th><th>test_accuracy</th><th>test_precision_weighted</th><th>test_recall_weighted</th><th>test_f1_weighted</th></tr><tr><td>f64</td><td>f64</td><td>f64</td><td>f64</td><td>f64</td><td>f64</td></tr></thead><tbody><tr><td>1.368674</td><td>0.102292</td><td>0.939024</td><td>0.929168</td><td>0.939024</td><td>0.931304</td></tr></tbody></table></div>"
            ]
          },
          "metadata": {},
          "execution_count": 23
        }
      ],
      "source": [
        "# Evaluating Random Forest Model on Cross-Validation Folds\n",
        "cross_val_scores = cross_validate(rf_model, X_train, y_train, cv=cv_folds,\n",
        "                                  scoring=['accuracy', 'precision_weighted', 'recall_weighted', 'f1_weighted'])\n",
        "avg_cv_scores = pl.DataFrame(cross_val_scores).mean()\n",
        "avg_cv_scores"
      ]
    },
    {
      "cell_type": "code",
      "source": [
        "# Get classifiction report on validation data\n",
        "print(classification_report(y_true=y_valid, y_pred=y_valid_rf))"
      ],
      "metadata": {
        "id": "AiEOQDX01QvZ",
        "colab": {
          "base_uri": "https://localhost:8080/"
        },
        "outputId": "b9dc2f99-0ace-4629-b428-a40d2f8f35d4"
      },
      "execution_count": null,
      "outputs": [
        {
          "output_type": "stream",
          "name": "stdout",
          "text": [
            "              precision    recall  f1-score   support\n",
            "\n",
            "           -       0.96      0.99      0.97       267\n",
            "           A       0.83      1.00      0.91         5\n",
            "          AK       0.67      1.00      0.80         2\n",
            "           B       0.00      0.00      0.00         1\n",
            "         C|I       0.00      0.00      0.00         1\n",
            "           F       1.00      1.00      1.00        10\n",
            "           G       0.86      1.00      0.92        12\n",
            "          GK       1.00      1.00      1.00         4\n",
            "           I       0.90      0.64      0.75        14\n",
            "           J       0.00      0.00      0.00         1\n",
            "           K       0.85      0.89      0.87        19\n",
            "          KJ       1.00      1.00      1.00         1\n",
            "           L       0.60      0.75      0.67         4\n",
            "           M       1.00      0.75      0.86         8\n",
            "          MK       0.67      1.00      0.80         2\n",
            "           N       1.00      0.80      0.89         5\n",
            "           O       1.00      1.00      1.00         2\n",
            "           R       0.67      0.33      0.44         6\n",
            "           S       1.00      0.67      0.80         3\n",
            "\n",
            "    accuracy                           0.94       367\n",
            "   macro avg       0.74      0.73      0.72       367\n",
            "weighted avg       0.93      0.94      0.93       367\n",
            "\n"
          ]
        },
        {
          "output_type": "stream",
          "name": "stderr",
          "text": [
            "/usr/local/lib/python3.10/dist-packages/sklearn/metrics/_classification.py:1531: UndefinedMetricWarning: Precision is ill-defined and being set to 0.0 in labels with no predicted samples. Use `zero_division` parameter to control this behavior.\n",
            "/usr/local/lib/python3.10/dist-packages/sklearn/metrics/_classification.py:1531: UndefinedMetricWarning: Precision is ill-defined and being set to 0.0 in labels with no predicted samples. Use `zero_division` parameter to control this behavior.\n",
            "/usr/local/lib/python3.10/dist-packages/sklearn/metrics/_classification.py:1531: UndefinedMetricWarning: Precision is ill-defined and being set to 0.0 in labels with no predicted samples. Use `zero_division` parameter to control this behavior.\n"
          ]
        }
      ]
    },
    {
      "cell_type": "markdown",
      "metadata": {
        "id": "MjQoZawVz5r1"
      },
      "source": [
        "#### Gradient Boosting Tree\n",
        "\n",
        "We will also take a look at another ensemble model called a gradient boosting tree model. This model employs an ensembling technique called boosting which uses many different underfitting decision trees to iteratively improve its performance."
      ]
    },
    {
      "cell_type": "code",
      "execution_count": null,
      "metadata": {
        "id": "jT4X0EMVz5r2",
        "colab": {
          "base_uri": "https://localhost:8080/"
        },
        "outputId": "7921d226-8694-44f0-be3f-36a6f5cfed93"
      },
      "outputs": [
        {
          "output_type": "stream",
          "name": "stderr",
          "text": [
            "/usr/local/lib/python3.10/dist-packages/sklearn/preprocessing/_label.py:114: DataConversionWarning: A column-vector y was passed when a 1d array was expected. Please change the shape of y to (n_samples, ), for example using ravel().\n"
          ]
        }
      ],
      "source": [
        "# CODE HERE: Implement a Gradient Boosting Model, fit it on the training data, and predict the validation and test data\n",
        "gbm_model = GradientBoostingClassifier(n_estimators=100, random_state=1)\n",
        "gbm_model.fit(X_train, y_train)\n",
        "y_valid_gbm = gbm_model.predict(X_valid)\n",
        "y_pred_gbm = gbm_model.predict(X_test)"
      ]
    },
    {
      "cell_type": "code",
      "execution_count": null,
      "metadata": {
        "id": "zTflCYOjz5r2",
        "colab": {
          "base_uri": "https://localhost:8080/",
          "height": 410
        },
        "outputId": "9294b4c3-ffa6-47ce-8fc7-3b6e2bae6ccd"
      },
      "outputs": [
        {
          "output_type": "stream",
          "name": "stderr",
          "text": [
            "/usr/local/lib/python3.10/dist-packages/sklearn/preprocessing/_label.py:114: DataConversionWarning: A column-vector y was passed when a 1d array was expected. Please change the shape of y to (n_samples, ), for example using ravel().\n",
            "/usr/local/lib/python3.10/dist-packages/sklearn/metrics/_classification.py:1531: UndefinedMetricWarning: Precision is ill-defined and being set to 0.0 in labels with no predicted samples. Use `zero_division` parameter to control this behavior.\n",
            "/usr/local/lib/python3.10/dist-packages/sklearn/metrics/_classification.py:1531: UndefinedMetricWarning: Recall is ill-defined and being set to 0.0 in labels with no true samples. Use `zero_division` parameter to control this behavior.\n",
            "/usr/local/lib/python3.10/dist-packages/sklearn/preprocessing/_label.py:114: DataConversionWarning: A column-vector y was passed when a 1d array was expected. Please change the shape of y to (n_samples, ), for example using ravel().\n",
            "/usr/local/lib/python3.10/dist-packages/sklearn/metrics/_classification.py:1531: UndefinedMetricWarning: Precision is ill-defined and being set to 0.0 in labels with no predicted samples. Use `zero_division` parameter to control this behavior.\n",
            "/usr/local/lib/python3.10/dist-packages/sklearn/metrics/_classification.py:1531: UndefinedMetricWarning: Recall is ill-defined and being set to 0.0 in labels with no true samples. Use `zero_division` parameter to control this behavior.\n",
            "/usr/local/lib/python3.10/dist-packages/sklearn/preprocessing/_label.py:114: DataConversionWarning: A column-vector y was passed when a 1d array was expected. Please change the shape of y to (n_samples, ), for example using ravel().\n",
            "/usr/local/lib/python3.10/dist-packages/sklearn/metrics/_classification.py:1531: UndefinedMetricWarning: Precision is ill-defined and being set to 0.0 in labels with no predicted samples. Use `zero_division` parameter to control this behavior.\n",
            "/usr/local/lib/python3.10/dist-packages/sklearn/metrics/_classification.py:1531: UndefinedMetricWarning: Recall is ill-defined and being set to 0.0 in labels with no true samples. Use `zero_division` parameter to control this behavior.\n",
            "/usr/local/lib/python3.10/dist-packages/sklearn/preprocessing/_label.py:114: DataConversionWarning: A column-vector y was passed when a 1d array was expected. Please change the shape of y to (n_samples, ), for example using ravel().\n",
            "/usr/local/lib/python3.10/dist-packages/sklearn/metrics/_classification.py:1531: UndefinedMetricWarning: Precision is ill-defined and being set to 0.0 in labels with no predicted samples. Use `zero_division` parameter to control this behavior.\n",
            "/usr/local/lib/python3.10/dist-packages/sklearn/metrics/_classification.py:1531: UndefinedMetricWarning: Recall is ill-defined and being set to 0.0 in labels with no true samples. Use `zero_division` parameter to control this behavior.\n",
            "/usr/local/lib/python3.10/dist-packages/sklearn/preprocessing/_label.py:114: DataConversionWarning: A column-vector y was passed when a 1d array was expected. Please change the shape of y to (n_samples, ), for example using ravel().\n",
            "/usr/local/lib/python3.10/dist-packages/sklearn/metrics/_classification.py:1531: UndefinedMetricWarning: Precision is ill-defined and being set to 0.0 in labels with no predicted samples. Use `zero_division` parameter to control this behavior.\n",
            "/usr/local/lib/python3.10/dist-packages/sklearn/metrics/_classification.py:1531: UndefinedMetricWarning: Recall is ill-defined and being set to 0.0 in labels with no true samples. Use `zero_division` parameter to control this behavior.\n"
          ]
        },
        {
          "output_type": "execute_result",
          "data": {
            "text/plain": [
              "shape: (1, 6)\n",
              "┌───────────┬────────────┬───────────────┬───────────────────┬──────────────────┬──────────────────┐\n",
              "│ fit_time  ┆ score_time ┆ test_accuracy ┆ test_precision_we ┆ test_recall_weig ┆ test_f1_weighted │\n",
              "│ ---       ┆ ---        ┆ ---           ┆ ighted            ┆ hted             ┆ ---              │\n",
              "│ f64       ┆ f64        ┆ f64           ┆ ---               ┆ ---              ┆ f64              │\n",
              "│           ┆            ┆               ┆ f64               ┆ f64              ┆                  │\n",
              "╞═══════════╪════════════╪═══════════════╪═══════════════════╪══════════════════╪══════════════════╡\n",
              "│ 45.354882 ┆ 0.108329   ┆ 0.932281      ┆ 0.932802          ┆ 0.932281         ┆ 0.931049         │\n",
              "└───────────┴────────────┴───────────────┴───────────────────┴──────────────────┴──────────────────┘"
            ],
            "text/html": [
              "<div><style>\n",
              ".dataframe > thead > tr,\n",
              ".dataframe > tbody > tr {\n",
              "  text-align: right;\n",
              "  white-space: pre-wrap;\n",
              "}\n",
              "</style>\n",
              "<small>shape: (1, 6)</small><table border=\"1\" class=\"dataframe\"><thead><tr><th>fit_time</th><th>score_time</th><th>test_accuracy</th><th>test_precision_weighted</th><th>test_recall_weighted</th><th>test_f1_weighted</th></tr><tr><td>f64</td><td>f64</td><td>f64</td><td>f64</td><td>f64</td><td>f64</td></tr></thead><tbody><tr><td>45.354882</td><td>0.108329</td><td>0.932281</td><td>0.932802</td><td>0.932281</td><td>0.931049</td></tr></tbody></table></div>"
            ]
          },
          "metadata": {},
          "execution_count": 26
        }
      ],
      "source": [
        "# Evaluating Gradient Boosting Model on Cross-Validation Folds\n",
        "cross_val_scores = cross_validate(gbm_model, X_train, y_train, cv=cv_folds,\n",
        "                                  scoring=['accuracy', 'precision_weighted', 'recall_weighted', 'f1_weighted'])\n",
        "avg_cv_scores = pl.DataFrame(cross_val_scores).mean()\n",
        "avg_cv_scores"
      ]
    },
    {
      "cell_type": "code",
      "source": [
        "# Get classifiction report on validation data\n",
        "print(classification_report(y_true=y_valid, y_pred=y_valid_gbm))"
      ],
      "metadata": {
        "id": "y_0sXwYm13Of",
        "colab": {
          "base_uri": "https://localhost:8080/"
        },
        "outputId": "2dd88a6c-6f04-479d-9908-82db18bd8f65"
      },
      "execution_count": null,
      "outputs": [
        {
          "output_type": "stream",
          "name": "stdout",
          "text": [
            "              precision    recall  f1-score   support\n",
            "\n",
            "           -       0.96      0.97      0.97       267\n",
            "           A       0.83      1.00      0.91         5\n",
            "          AK       1.00      0.50      0.67         2\n",
            "           B       0.00      0.00      0.00         1\n",
            "         C|I       0.00      0.00      0.00         1\n",
            "           F       0.90      0.90      0.90        10\n",
            "           G       0.92      1.00      0.96        12\n",
            "          GK       0.80      1.00      0.89         4\n",
            "           I       0.69      0.64      0.67        14\n",
            "           J       1.00      1.00      1.00         1\n",
            "           K       0.89      0.89      0.89        19\n",
            "          KJ       0.50      1.00      0.67         1\n",
            "           L       0.60      0.75      0.67         4\n",
            "           M       1.00      0.62      0.77         8\n",
            "          MK       0.33      0.50      0.40         2\n",
            "           N       1.00      0.80      0.89         5\n",
            "           O       0.50      0.50      0.50         2\n",
            "           R       0.80      0.67      0.73         6\n",
            "           S       1.00      1.00      1.00         3\n",
            "\n",
            "    accuracy                           0.93       367\n",
            "   macro avg       0.72      0.72      0.71       367\n",
            "weighted avg       0.93      0.93      0.92       367\n",
            "\n"
          ]
        },
        {
          "output_type": "stream",
          "name": "stderr",
          "text": [
            "/usr/local/lib/python3.10/dist-packages/sklearn/metrics/_classification.py:1531: UndefinedMetricWarning: Precision is ill-defined and being set to 0.0 in labels with no predicted samples. Use `zero_division` parameter to control this behavior.\n",
            "/usr/local/lib/python3.10/dist-packages/sklearn/metrics/_classification.py:1531: UndefinedMetricWarning: Precision is ill-defined and being set to 0.0 in labels with no predicted samples. Use `zero_division` parameter to control this behavior.\n",
            "/usr/local/lib/python3.10/dist-packages/sklearn/metrics/_classification.py:1531: UndefinedMetricWarning: Precision is ill-defined and being set to 0.0 in labels with no predicted samples. Use `zero_division` parameter to control this behavior.\n"
          ]
        }
      ]
    },
    {
      "cell_type": "markdown",
      "source": [
        "### Improving Our Models\n",
        "\n",
        "It seems as though the random forest classifier and gradient boosting classifier give similarly decent performanc on the data, however we can certainly improve these models. Here's a few potential strategies:\n",
        "\n",
        "1. **Perform hyperparameter tuning:** Both models include what are called hyperparameters such as `n_estimators` that can be varied to potentially get better performance. While you can set up some for loops to independently change each hyperparameter over a range of values and evaulate model performance, a better approach is to use the `GridSearchCV` function in sklearn which automates the process. Do however note that hyperparamter tuning is often times a very lengthy process that can take hours.\n",
        "2. **Split up the target variable**: Looking at the classification reports and based on your intuition it makes sense that any model would struggle to classify some of the rare classes that are combinations of diagnosis such as 'AK' or 'H|K'. One approach you could take to rectify this issue is to create three different columns, the first one for the first diagnosis, the second one for the second diagnosis, and the third for whether it is a pure combination or one with a line through it. After doing this you would simply run three separate classification models for all three target variables.\n",
        "3. **Take steps to reduce imbalance in the data set**: Nearly 74% of the patients in the data do not have a diagnosis, so our data set has quite a bit of imbalance. One technique you can use to deal with this imbalance is called SMOTE which aims to add synthetic data that samples from the minority classes.\n",
        "4. **Feature Engineering**: Often times transforming a feature or combing multiple features into one can enhance performance. Think about any combinations of features that may be predictive of diagnosis."
      ],
      "metadata": {
        "id": "IRZX4qjk4w-t"
      }
    },
    {
      "cell_type": "code",
      "source": [
        "# CODE HERE: If you have time left over then try improving one of the better performing models\n"
      ],
      "metadata": {
        "id": "ZETNo9OEbaWx"
      },
      "execution_count": null,
      "outputs": []
    },
    {
      "cell_type": "code",
      "source": [
        "# Evaluating Your Model on Cross-Validation Folds\n",
        "cross_val_scores = cross_validate(YOUR_MODEL_HERE, X_train, y_train, cv=cv_folds,\n",
        "                                  scoring=['accuracy', 'precision_weighted', 'recall_weighted', 'f1_weighted'])\n",
        "avg_cv_scores = pl.DataFrame(cross_val_scores).mean()\n",
        "avg_cv_scores"
      ],
      "metadata": {
        "id": "35NH2tbzbonM"
      },
      "execution_count": null,
      "outputs": []
    }
  ],
  "metadata": {
    "kernelspec": {
      "display_name": "Python 3",
      "language": "python",
      "name": "python3"
    },
    "language_info": {
      "codemirror_mode": {
        "name": "ipython",
        "version": 3
      },
      "file_extension": ".py",
      "mimetype": "text/x-python",
      "name": "python",
      "nbconvert_exporter": "python",
      "pygments_lexer": "ipython3",
      "version": "3.10.4"
    },
    "colab": {
      "provenance": [],
      "include_colab_link": true
    }
  },
  "nbformat": 4,
  "nbformat_minor": 0
}